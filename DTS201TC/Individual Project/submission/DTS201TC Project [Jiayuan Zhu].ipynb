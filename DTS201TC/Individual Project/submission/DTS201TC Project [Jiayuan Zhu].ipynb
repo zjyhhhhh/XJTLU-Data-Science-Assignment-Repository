{
 "cells": [
  {
   "cell_type": "markdown",
   "metadata": {},
   "source": [
    "### DTS201TC \n",
    "#### individual Project"
   ]
  },
  {
   "cell_type": "code",
   "execution_count": 1,
   "metadata": {},
   "outputs": [],
   "source": [
    "import numpy as np \n",
    "import scipy.io\n",
    "import scipy.stats\n",
    "import math\n",
    "import collections"
   ]
  },
  {
   "cell_type": "markdown",
   "metadata": {},
   "source": [
    "#### Auxiliary functions"
   ]
  },
  {
   "cell_type": "code",
   "execution_count": 2,
   "metadata": {},
   "outputs": [],
   "source": [
    "def log_normpdf(x, mu, sigma):\n",
    "    \"\"\"\n",
    "      Computes the natural logarithm of the normal probability density function\n",
    "  \n",
    "    \"\"\"\n",
    "    prob = scipy.stats.norm(mu, sigma).pdf(x)\n",
    "    return prob\n"
   ]
  },
  {
   "cell_type": "code",
   "execution_count": 3,
   "metadata": {},
   "outputs": [],
   "source": [
    "class JointParts():\n",
    "    def __init__(self, N_class):\n",
    "        self.means = np.zeros([3,N_class])\n",
    "        self.sigma = np.zeros([3,N_class])\n"
   ]
  },
  {
   "cell_type": "code",
   "execution_count": 4,
   "metadata": {},
   "outputs": [],
   "source": [
    "class Model():\n",
    "    def __init__(self, N_class, N_joints):\n",
    "        self.jointparts = [JointParts(N_class) for i in range(N_joints)]\n",
    "        self.class_priors = {}\n",
    "        "
   ]
  },
  {
   "cell_type": "code",
   "execution_count": 5,
   "metadata": {},
   "outputs": [],
   "source": [
    "def cal_acc(a,b):\n",
    "    \"\"\"\n",
    "       Input\n",
    "           two vectors with same size\n",
    "\n",
    "       Output\n",
    "           accuracy\n",
    "    \"\"\"\n",
    "    \n",
    "    acc = 0.0\n",
    "    for i in range(len(a)):\n",
    "        if(a[i]==b[i]):\n",
    "            acc+=1\n",
    "    acc = acc/len(a)\n",
    "    \n",
    "    return acc"
   ]
  },
  {
   "cell_type": "markdown",
   "metadata": {},
   "source": [
    "#### Functions to implement"
   ]
  },
  {
   "cell_type": "code",
   "execution_count": 6,
   "metadata": {},
   "outputs": [],
   "source": [
    "def fit_model(X):\n",
    "    \"\"\"\n",
    "      Compute the mean and standard deviation of X, \n",
    "    \"\"\"\n",
    "    # TODO\n",
    "    X = np.array(X)\n",
    "    mean = np.mean(X)\n",
    "    std = np.sqrt(np.dot(X - mean, (X - mean).T) / X.shape[0])\n",
    "    # print(mean, variance)\n",
    "    return (mean, std)\n"
   ]
  },
  {
   "cell_type": "code",
   "execution_count": 7,
   "metadata": {},
   "outputs": [],
   "source": [
    "def learn_model(dataset, labels, G=None):\n",
    "    \"\"\"\n",
    "    Input:\n",
    "     dataset: The data as loaded \n",
    "     labels:  The labels as loaded \n",
    "     \n",
    "    Output: the model\n",
    "     a (tentative) structure for the output model is:\n",
    "       model.class_priors: containing a vector with the prior estimations\n",
    "                           for each class\n",
    "       model.jointparts[i] contains the estimated parameters for the i-th joint\n",
    "\n",
    "            model.jointparts(i).means: a matrix of 3 x #classes with the\n",
    "                   estimated means for each of the x,y,z variables of the \n",
    "                   i-th joint and for each class.\n",
    "            model.jointparts(i).sigma: a matrix of 3 x #classes with the\n",
    "                   estimated stadar deviations for each of the x,y,z \n",
    "                   variables of the i-th joint and for each class.\n",
    "\n",
    "       \n",
    "\n",
    "    \"\"\"\n",
    "    # Get the basic information from the dataset\n",
    "    label = np.unique(labels)\n",
    "    labels = labels.flatten()\n",
    "    N_class = len(label)\n",
    "    N_joints = dataset.shape[0]\n",
    "    N_dims = dataset.shape[1]\n",
    "    model = Model(N_class, N_joints)\n",
    "\n",
    "    # Prior probability\n",
    "    cnt = collections.Counter(labels)\n",
    "    class_items = {}\n",
    "    for k,v in cnt.items():\n",
    "        model.class_priors[k] = v/len(labels)\n",
    "        class_items[k] = []\n",
    "    \n",
    "    for i in range(len(labels)):\n",
    "        class_items[labels[i]].append(i)\n",
    "\n",
    "    # Posterior probability\n",
    "    for i in range(N_joints):\n",
    "        for j in range(N_dims):\n",
    "            for k in range(N_class):\n",
    "                data = [dataset[i][j][idx] for idx in class_items[label[k]]]\n",
    "                (model.jointparts[i].means[j][k], model.jointparts[i].sigma[j][k]) = fit_model(data)\n",
    "    return model"
   ]
  },
  {
   "cell_type": "code",
   "execution_count": 8,
   "metadata": {},
   "outputs": [],
   "source": [
    "def classify_samples(instances, model):\n",
    "    \"\"\"    \n",
    "    Input\n",
    "       instance: a 20x3x#instances matrix defining body positions of\n",
    "                 instances\n",
    "       model: as the output of learn_model\n",
    "\n",
    "    Output\n",
    "       probs: a matrix of #instances x #classes with the probability of each\n",
    "              instance of belonging to each of the classes\n",
    "\n",
    "    Important: to avoid underflow numerical issues this computations should\n",
    "               be performed in log space\n",
    "    \"\"\"\n",
    "    # TODO\n",
    "    # Get the information of dataset from model\n",
    "    \n",
    "    label = list(model.class_priors.keys())\n",
    "    N_class = len(label)\n",
    "    N_joints = len(model.jointparts)\n",
    "    N_dims = model.jointparts[0].means.shape[0]\n",
    "    \n",
    "    # Make sure the model is suitable for the test dataset\n",
    "    assert instances.shape[0] == N_joints, instances.shape[1] == N_dims\n",
    "\n",
    "    # Compute the likelihoods for each class\n",
    "    likelihoods = []\n",
    "    for id in range(N_class):\n",
    "        prob = 1\n",
    "        for i in range(N_joints):\n",
    "            for j in range(N_dims):\n",
    "                prob *= log_normpdf(instances[i][j], model.jointparts[i].means[j][id], model.jointparts[i].sigma[j][id])\n",
    "        likelihoods.append(prob)\n",
    "\n",
    "    probs = [model.class_priors[label[id]] * likelihoods[id] for id in range(N_class)]\n",
    "    \n",
    "    return np.array(probs).T"
   ]
  },
  {
   "cell_type": "markdown",
   "metadata": {},
   "source": [
    "# TEST PART"
   ]
  },
  {
   "cell_type": "markdown",
   "metadata": {},
   "source": [
    "## 1 learn model"
   ]
  },
  {
   "cell_type": "code",
   "execution_count": 9,
   "metadata": {},
   "outputs": [],
   "source": [
    "dd = scipy.io.loadmat('data/validation_data.mat')\n",
    "X = dd['data_small']\n",
    "Y = dd['labels_small']\n",
    "# the index for training set\n",
    "ind = dd['train_indexes']\n",
    "[trainInd,nouse] = np.where(ind==1)\n",
    "# get the training set with fixed index\n",
    "X_train = X[:,:,trainInd]\n",
    "y_train = Y[trainInd]\n",
    "# training/learning\n",
    "modelNB = learn_model(X_train, y_train)"
   ]
  },
  {
   "cell_type": "markdown",
   "metadata": {},
   "source": [
    "## 2 Classify"
   ]
  },
  {
   "cell_type": "code",
   "execution_count": 10,
   "metadata": {},
   "outputs": [
    {
     "name": "stdout",
     "output_type": "stream",
     "text": [
      "0.95\n"
     ]
    }
   ],
   "source": [
    "dd = scipy.io.loadmat('data/validation_data.mat')\n",
    "X = dd['data_small']\n",
    "Y = dd['labels_small']\n",
    "\n",
    "# get the test set index\n",
    "ind = dd['test_indexes']\n",
    "[testInd,nouse] = np.where(ind==1)\n",
    "# get the testing set with fixed index\n",
    "X_test = X[:,:,testInd]\n",
    "y_test = Y[testInd]\n",
    "# classify  \n",
    "y_rst = classify_samples(X_test, modelNB)\n",
    "labelpos = np.argmax(y_rst, axis = 1)\n",
    "# get the label of the each instance with probs\n",
    "classPriors = modelNB.class_priors\n",
    "whatlabel = list(classPriors.keys())\n",
    "y = classify_samples(X_test, modelNB)\n",
    "labelpos = np.argmax(y, axis = 1)\n",
    "\n",
    "rst = [whatlabel[labelpos[i]] for i in range(len(labelpos))]\n",
    "val = list(y_test.reshape(len(y_test),))\n",
    "\n",
    "print(cal_acc(rst,val))"
   ]
  }
 ],
 "metadata": {
  "interpreter": {
   "hash": "bd66fef6d9ce8abe41fd0884665053a0ac01b9f74aa93d709a87f86634f4ca75"
  },
  "kernelspec": {
   "display_name": "gempy",
   "language": "python",
   "name": "python3"
  },
  "language_info": {
   "codemirror_mode": {
    "name": "ipython",
    "version": 3
   },
   "file_extension": ".py",
   "mimetype": "text/x-python",
   "name": "python",
   "nbconvert_exporter": "python",
   "pygments_lexer": "ipython3",
   "version": "3.8.12"
  }
 },
 "nbformat": 4,
 "nbformat_minor": 2
}
