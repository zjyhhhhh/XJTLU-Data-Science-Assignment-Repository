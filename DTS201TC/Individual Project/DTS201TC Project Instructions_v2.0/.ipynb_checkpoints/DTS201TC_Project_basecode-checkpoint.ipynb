{
 "cells": [
  {
   "cell_type": "markdown",
   "metadata": {},
   "source": [
    "### DTS201TC \n",
    "#### individual Project"
   ]
  },
  {
   "cell_type": "code",
   "execution_count": null,
   "metadata": {},
   "outputs": [],
   "source": [
    "import numpy as np \n",
    "import scipy.io\n",
    "import scipy.stats\n",
    "import math"
   ]
  },
  {
   "cell_type": "markdown",
   "metadata": {},
   "source": [
    "#### Auxiliary functions"
   ]
  },
  {
   "cell_type": "code",
   "execution_count": null,
   "metadata": {},
   "outputs": [],
   "source": [
    "def log_normpdf(x, mu, sigma):\n",
    "    \"\"\"\n",
    "      Computes the natural logarithm of the normal probability density function\n",
    "  \n",
    "    \"\"\"\n",
    "    prob = scipy.stats.norm(mu, sigma).pdf(x)\n",
    "    return prob\n"
   ]
  },
  {
   "cell_type": "code",
   "execution_count": null,
   "metadata": {},
   "outputs": [],
   "source": [
    "class JointParts():\n",
    "    def __init__(self, N_class):\n",
    "        self.means = np.zeros([3,N_class])\n",
    "        self.sigma = np.zeros([3,N_class])\n"
   ]
  },
  {
   "cell_type": "code",
   "execution_count": null,
   "metadata": {},
   "outputs": [],
   "source": [
    "class Model():\n",
    "    def __init__(self, N_class, N_joints):\n",
    "        self.jointparts = [JointParts(N_class) for i in range(N_joints)]\n",
    "        self.class_priors = {}\n",
    "        "
   ]
  },
  {
   "cell_type": "code",
   "execution_count": null,
   "metadata": {},
   "outputs": [],
   "source": [
    "def cal_acc(a,b):\n",
    "    \"\"\"\n",
    "       Input\n",
    "           two vectors with same size\n",
    "\n",
    "       Output\n",
    "           accuracy\n",
    "    \"\"\"\n",
    "    \n",
    "    acc = 0.0\n",
    "    for i in range(len(a)):\n",
    "        if(a[i]==b[i]):\n",
    "            acc+=1\n",
    "    acc = acc/len(a)\n",
    "    \n",
    "    return acc"
   ]
  },
  {
   "cell_type": "markdown",
   "metadata": {},
   "source": [
    "#### Functions to implement"
   ]
  },
  {
   "cell_type": "code",
   "execution_count": null,
   "metadata": {},
   "outputs": [],
   "source": [
    "def fit_model(X):\n",
    "    \"\"\"\n",
    "      Compute the mean and variance of X, \n",
    "    \"\"\"\n",
    "    # TODO\n",
    "    mean = \n",
    "    variance = \n",
    "    return (mean, variance)\n"
   ]
  },
  {
   "cell_type": "code",
   "execution_count": null,
   "metadata": {},
   "outputs": [],
   "source": [
    "def learn_model(dataset, labels, G=None):\n",
    "    \"\"\"\n",
    "    Input:\n",
    "     dataset: The data as loaded \n",
    "     labels:  The labels as loaded \n",
    "     \n",
    "    Output: the model\n",
    "     a (tentative) structure for the output model is:\n",
    "       model.class_priors: containing a vector with the prior estimations\n",
    "                           for each class\n",
    "       model.jointparts[i] contains the estimated parameters for the i-th joint\n",
    "\n",
    "            model.jointparts(i).means: a matrix of 3 x #classes with the\n",
    "                   estimated means for each of the x,y,z variables of the \n",
    "                   i-th joint and for each class.\n",
    "            model.jointparts(i).sigma: a matrix of 3 x #classes with the\n",
    "                   estimated stadar deviations for each of the x,y,z \n",
    "                   variables of the i-th joint and for each class.\n",
    "\n",
    "       \n",
    "\n",
    "    \"\"\"\n",
    "\n",
    "    # TODO\n",
    "    \n",
    "    \n",
    "    \n",
    "    \n",
    "    \n",
    "  \n",
    "    return model"
   ]
  },
  {
   "cell_type": "code",
   "execution_count": null,
   "metadata": {},
   "outputs": [],
   "source": [
    "def classify_samples(instances, model):\n",
    "    \"\"\"    \n",
    "    Input\n",
    "       instance: a 20x3x#instances matrix defining body positions of\n",
    "                 instances\n",
    "       model: as the output of learn_model\n",
    "\n",
    "    Output\n",
    "       probs: a matrix of #instances x #classes with the probability of each\n",
    "              instance of belonging to each of the classes\n",
    "\n",
    "    Important: to avoid underflow numerical issues this computations should\n",
    "               be performed in log space\n",
    "    \"\"\"\n",
    "    # TODO\n",
    "    \n",
    "#     probs = likelihood * priors\n",
    "\n",
    "    return probs\n",
    "\n",
    "\n"
   ]
  },
  {
   "cell_type": "markdown",
   "metadata": {},
   "source": [
    "# TEST PART"
   ]
  },
  {
   "cell_type": "markdown",
   "metadata": {},
   "source": [
    "## 1 learn model"
   ]
  },
  {
   "cell_type": "code",
   "execution_count": null,
   "metadata": {},
   "outputs": [],
   "source": [
    "dd = scipy.io.loadmat('data/validation_data.mat')\n",
    "X = dd['data_small']\n",
    "Y = dd['labels_small']\n",
    "# the index for training set\n",
    "ind = dd['train_indexes']\n",
    "[trainInd,nouse] = np.where(ind==1)\n",
    "# get the training set with fixed index\n",
    "X_train = X[:,:,trainInd]\n",
    "y_train = Y[trainInd]\n",
    "# training/learning\n",
    "modelNB = learn_model(X_train, y_train)"
   ]
  },
  {
   "cell_type": "markdown",
   "metadata": {},
   "source": [
    "## 2 Classify"
   ]
  },
  {
   "cell_type": "code",
   "execution_count": null,
   "metadata": {},
   "outputs": [],
   "source": [
    "dd = scipy.io.loadmat('data/validation_data.mat')\n",
    "X = dd['data_small']\n",
    "Y = dd['labels_small']\n",
    "\n",
    "# get the test set index\n",
    "ind = dd['test_indexes']\n",
    "[testInd,nouse] = np.where(ind==1)\n",
    "# get the testing set with fixed index\n",
    "X_test = X[:,:,testInd]\n",
    "y_test = Y[testInd]\n",
    "# classify  \n",
    "y_rst = classify_samples(X_test, modelNB)\n",
    "labelpos = np.argmax(y_rst, axis = 1)\n",
    "# get the label of the each instance with probs\n",
    "classPriors = modelNB.class_priors\n",
    "whatlabel = list(classPriors.keys())\n",
    "y = classify_samples(X_test, modelNB)\n",
    "labelpos = np.argmax(y, axis = 1)\n",
    "\n",
    "rst = [whatlabel[labelpos[i]] for i in range(len(labelpos))]\n",
    "val = list(y_test.reshape(len(y_test),))\n",
    "\n",
    "print(cal_acc(rst,val))"
   ]
  },
  {
   "cell_type": "code",
   "execution_count": null,
   "metadata": {},
   "outputs": [],
   "source": []
  },
  {
   "cell_type": "code",
   "execution_count": null,
   "metadata": {},
   "outputs": [],
   "source": []
  },
  {
   "cell_type": "code",
   "execution_count": null,
   "metadata": {},
   "outputs": [],
   "source": []
  }
 ],
 "metadata": {
  "kernelspec": {
   "display_name": "gempy",
   "language": "python",
   "name": "gempy"
  },
  "language_info": {
   "codemirror_mode": {
    "name": "ipython",
    "version": 2
   },
   "file_extension": ".py",
   "mimetype": "text/x-python",
   "name": "python",
   "nbconvert_exporter": "python",
   "pygments_lexer": "ipython2",
   "version": "2.7.15"
  }
 },
 "nbformat": 4,
 "nbformat_minor": 2
}
