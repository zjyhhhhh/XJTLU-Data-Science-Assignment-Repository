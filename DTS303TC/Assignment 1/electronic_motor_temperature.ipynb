{
 "cells": [
  {
   "cell_type": "code",
   "execution_count": 1,
   "metadata": {
    "collapsed": true
   },
   "outputs": [],
   "source": [
    "from pyspark.ml import Pipeline\n",
    "from pyspark.ml.regression import LinearRegression, DecisionTreeRegressor, GBTRegressor, RandomForestRegressor\n",
    "from pyspark.ml.feature import OneHotEncoder, StringIndexer, StandardScaler, VectorAssembler\n",
    "from pyspark.ml.evaluation import RegressionEvaluator\n",
    "from pyspark.sql import SQLContext"
   ]
  },
  {
   "cell_type": "code",
   "execution_count": 2,
   "metadata": {
    "collapsed": true
   },
   "outputs": [],
   "source": [
    "path = \"file:///home/cloudera/Documents/cw/measures_v2.csv\"\n",
    "\n",
    "sqlContext = SQLContext(sc)\n",
    "\n",
    "df = sqlContext.read.load(path, \n",
    "                          format='com.databricks.spark.csv', \n",
    "                          header='true', \n",
    "                          inferSchema='true')"
   ]
  },
  {
   "cell_type": "code",
   "execution_count": 3,
   "metadata": {
    "collapsed": true
   },
   "outputs": [],
   "source": [
    "train, test = df.randomSplit([0.8, 0.2],seed=2022)"
   ]
  },
  {
   "cell_type": "code",
   "execution_count": 4,
   "metadata": {
    "collapsed": true
   },
   "outputs": [],
   "source": [
    "label = 'pm'\n",
    "# num_features = ['u_q', 'coolant', 'stator_winding', 'stator_tooth', 'motor_speed', 'i_d', 'i_q', 'stator_yoke', 'ambient']\n",
    "num_features = ['u_q', 'coolant', 'stator_winding', 'u_d', 'stator_tooth', 'motor_speed', 'i_d', 'i_q', 'stator_yoke', 'ambient', 'torque']"
   ]
  },
  {
   "cell_type": "code",
   "execution_count": 5,
   "metadata": {
    "collapsed": true
   },
   "outputs": [],
   "source": [
    "stringIndexer = StringIndexer(inputCol='profile_id', outputCol='profile_strIndex')\n",
    "\n",
    "oneHotEncoder = OneHotEncoder(dropLast=False, inputCol='profile_strIndex', outputCol='profile_oneHot')\n",
    "\n",
    "vectorAssembler = VectorAssembler(inputCols=num_features+['profile_oneHot'], outputCol=\"features\")\n",
    "\n",
    "standardScaler = StandardScaler(inputCol=\"features\", outputCol=\"features_norm\")\n",
    "\n",
    "regression = GBTRegressor(featuresCol=\"features_norm\", labelCol=label)"
   ]
  },
  {
   "cell_type": "code",
   "execution_count": 6,
   "metadata": {
    "collapsed": true
   },
   "outputs": [],
   "source": [
    "pipeline = Pipeline(stages=[stringIndexer, oneHotEncoder, vectorAssembler, standardScaler, regression])"
   ]
  },
  {
   "cell_type": "code",
   "execution_count": 7,
   "metadata": {
    "collapsed": true
   },
   "outputs": [],
   "source": [
    "model = pipeline.fit(train)"
   ]
  },
  {
   "cell_type": "code",
   "execution_count": 8,
   "metadata": {
    "collapsed": true
   },
   "outputs": [],
   "source": [
    "preds = model.transform(test)"
   ]
  },
  {
   "cell_type": "code",
   "execution_count": 9,
   "metadata": {
    "collapsed": false
   },
   "outputs": [
    {
     "name": "stdout",
     "output_type": "stream",
     "text": [
      "RSquare: 0.9056 \n",
      "RMSE: 5.8359 \n",
      "MAE: 4.3507\n"
     ]
    }
   ],
   "source": [
    "evaluator = RegressionEvaluator(labelCol=label, predictionCol='prediction')\n",
    "\n",
    "r2 = evaluator.evaluate(preds, {evaluator.metricName: \"r2\"})\n",
    "rmse = evaluator.evaluate(preds, {evaluator.metricName: \"rmse\"})\n",
    "mae = evaluator.evaluate(preds, {evaluator.metricName: \"mae\"})\n",
    "\n",
    "print(\"RSquare: %.4f \\nRMSE: %.4f \\nMAE: %.4f\" % (r2, rmse, mae))"
   ]
  },
  {
   "cell_type": "code",
   "execution_count": null,
   "metadata": {
    "collapsed": true
   },
   "outputs": [],
   "source": []
  }
 ],
 "metadata": {
  "kernelspec": {
   "display_name": "Python 3",
   "language": "python",
   "name": "python3"
  },
  "language_info": {
   "codemirror_mode": {
    "name": "ipython",
    "version": 3
   },
   "file_extension": ".py",
   "mimetype": "text/x-python",
   "name": "python",
   "nbconvert_exporter": "python",
   "pygments_lexer": "ipython3",
   "version": "3.5.1"
  }
 },
 "nbformat": 4,
 "nbformat_minor": 0
}
